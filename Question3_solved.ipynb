{
  "cells": [
    {
      "cell_type": "markdown",
      "metadata": {
        "id": "7rMJIubZGObP"
      },
      "source": [
        "#### Multiply 10 with 5, and print the result.\n",
        "\n"
      ]
    },
    {
      "cell_type": "code",
      "source": [
        "print(10*5)"
      ],
      "metadata": {
        "colab": {
          "base_uri": "https://localhost:8080/"
        },
        "id": "2843Doa0_AX1",
        "outputId": "0f515442-6333-41d0-8d70-4a183301ed79"
      },
      "execution_count": null,
      "outputs": [
        {
          "output_type": "stream",
          "name": "stdout",
          "text": [
            "50\n"
          ]
        }
      ]
    },
    {
      "cell_type": "markdown",
      "metadata": {
        "id": "Mucrs9f5GYw3"
      },
      "source": [
        "### Divide 10 by 2, and print the result.\n",
        "\n"
      ]
    },
    {
      "cell_type": "code",
      "source": [
        "print(10/5)"
      ],
      "metadata": {
        "colab": {
          "base_uri": "https://localhost:8080/"
        },
        "id": "hVldbw40_yDD",
        "outputId": "c718c101-3661-47a5-e869-166b62aa22d8"
      },
      "execution_count": null,
      "outputs": [
        {
          "output_type": "stream",
          "name": "stdout",
          "text": [
            "2.0\n"
          ]
        }
      ]
    },
    {
      "cell_type": "markdown",
      "metadata": {
        "id": "GhvrFFPxGkLF"
      },
      "source": [
        "### Use the correct membership operator to check if \"apple\" is present in the fruits object.\n",
        "\n"
      ]
    },
    {
      "cell_type": "code",
      "source": [
        "fruits=(\"apple\",\"banana\")\n",
        "if \"apple\" in fruits:\n",
        "  print(\"Yes ,apple in a fruit!\")"
      ],
      "metadata": {
        "colab": {
          "base_uri": "https://localhost:8080/"
        },
        "id": "vFBz2ie__1AH",
        "outputId": "7c650de7-4681-423f-94c1-b508126520bf"
      },
      "execution_count": null,
      "outputs": [
        {
          "output_type": "stream",
          "name": "stdout",
          "text": [
            "Yes ,apple in a fruit!\n"
          ]
        }
      ]
    },
    {
      "cell_type": "markdown",
      "metadata": {
        "id": "71TfNEQxGuNw"
      },
      "source": [
        "### Use the correct comparison operator to check if 5 is `not equal` to 10.\n",
        "\n"
      ]
    },
    {
      "cell_type": "code",
      "source": [
        "if 5!=10:\n",
        "  print(\" 5 and 10 is not equal\")"
      ],
      "metadata": {
        "colab": {
          "base_uri": "https://localhost:8080/"
        },
        "id": "uTsiiHU8AFk1",
        "outputId": "fb1341a9-a26c-458b-d309-5fdf8f89f931"
      },
      "execution_count": null,
      "outputs": [
        {
          "output_type": "stream",
          "name": "stdout",
          "text": [
            " 5 and 10 is not equal\n"
          ]
        }
      ]
    },
    {
      "cell_type": "markdown",
      "metadata": {
        "id": "_cqga3VjG9jJ"
      },
      "source": [
        "### Use the correct logical operator to check if at least one of two statements is `True`.\n",
        "\n"
      ]
    },
    {
      "cell_type": "code",
      "source": [
        "if 5==10 or 4==4:\n",
        "  print(\"The statements is true \")"
      ],
      "metadata": {
        "colab": {
          "base_uri": "https://localhost:8080/"
        },
        "id": "0OJeTboIAR_m",
        "outputId": "de2ea5f3-99f9-46b9-c863-3e44bd63d51f"
      },
      "execution_count": null,
      "outputs": [
        {
          "output_type": "stream",
          "name": "stdout",
          "text": [
            "The statements is true \n"
          ]
        }
      ]
    },
    {
      "cell_type": "markdown",
      "metadata": {
        "id": "gvFm9RC4H2BJ"
      },
      "source": [
        "### Print the second item in the fruits list.\n",
        "\n"
      ]
    },
    {
      "cell_type": "code",
      "source": [
        "fruits=[\"apple\",\"banana\",\"cherry\"]\n",
        "print(fruits[1])\n"
      ],
      "metadata": {
        "colab": {
          "base_uri": "https://localhost:8080/"
        },
        "id": "rvES3ZDVAdfu",
        "outputId": "240437ac-6895-4a8f-9142-1b7f711a82ed"
      },
      "execution_count": null,
      "outputs": [
        {
          "output_type": "stream",
          "name": "stdout",
          "text": [
            "banana\n"
          ]
        }
      ]
    },
    {
      "cell_type": "markdown",
      "metadata": {
        "id": "_o7i99HGICNC"
      },
      "source": [
        "### Change the value from \"apple\" to \"kiwi\", in the fruits list.\n",
        "\n"
      ]
    },
    {
      "cell_type": "code",
      "source": [
        "fruits=[\"apple\",\"banana\",\"cherry\"]\n",
        "fruits[0]=\"kiwi\"\n",
        "print(fruits)"
      ],
      "metadata": {
        "colab": {
          "base_uri": "https://localhost:8080/"
        },
        "id": "8rtfLJJ0Amng",
        "outputId": "6d4916db-2606-49c0-b529-f6ffdacde1c1"
      },
      "execution_count": null,
      "outputs": [
        {
          "output_type": "stream",
          "name": "stdout",
          "text": [
            "['kiwi', 'banana', 'cherry']\n"
          ]
        }
      ]
    },
    {
      "cell_type": "markdown",
      "metadata": {
        "id": "Wxi383HNILra"
      },
      "source": [
        "### Use the append method to add \"orange\" to the fruits list.\n",
        "\n"
      ]
    },
    {
      "cell_type": "code",
      "source": [
        "fruits.append(\"orange\")"
      ],
      "metadata": {
        "id": "lIXpfwndAzbD"
      },
      "execution_count": null,
      "outputs": []
    },
    {
      "cell_type": "code",
      "source": [
        "print(fruits)"
      ],
      "metadata": {
        "colab": {
          "base_uri": "https://localhost:8080/"
        },
        "id": "kGxtbwKaA5Ru",
        "outputId": "6db434e9-172e-49bf-c055-8f07848491e0"
      },
      "execution_count": null,
      "outputs": [
        {
          "output_type": "stream",
          "name": "stdout",
          "text": [
            "['kiwi', 'banana', 'cherry', 'orange']\n"
          ]
        }
      ]
    },
    {
      "cell_type": "markdown",
      "metadata": {
        "id": "z6tv8q6zIUjZ"
      },
      "source": [
        "### Use the insert method to add \"lemon\" as the second item in the fruits list.\n",
        "\n"
      ]
    },
    {
      "cell_type": "code",
      "source": [
        "fruits=[\"apple\",\"banana\",\"cherry\"]\n",
        "fruits.insert(1,\"lemon\")\n",
        "print(fruits)"
      ],
      "metadata": {
        "colab": {
          "base_uri": "https://localhost:8080/"
        },
        "id": "cX5UTXlQB97-",
        "outputId": "a81cab3e-c44c-4dbc-8088-605ae8bd2948"
      },
      "execution_count": null,
      "outputs": [
        {
          "output_type": "stream",
          "name": "stdout",
          "text": [
            "['apple', 'lemon', 'banana', 'cherry']\n"
          ]
        }
      ]
    },
    {
      "cell_type": "markdown",
      "metadata": {
        "id": "CsyceyyBIiSw"
      },
      "source": [
        "### Use the remove method to remove `\"banana\"` from the fruits list.\n",
        "\n"
      ]
    },
    {
      "cell_type": "code",
      "source": [
        "fruits=[\"apple\",\"banana\",\"cherry\"]\n",
        "fruits.remove(\"banana\")\n",
        "print(fruits)"
      ],
      "metadata": {
        "colab": {
          "base_uri": "https://localhost:8080/"
        },
        "id": "Wk9ed0JjCIvA",
        "outputId": "b03f99d9-6294-4206-f4ae-3019e48126b9"
      },
      "execution_count": null,
      "outputs": [
        {
          "output_type": "stream",
          "name": "stdout",
          "text": [
            "['apple', 'cherry']\n"
          ]
        }
      ]
    },
    {
      "cell_type": "markdown",
      "metadata": {
        "id": "0fbTHlYrIrwY"
      },
      "source": [
        "### Use negative indexing to print the last item in the list.\n",
        "\n"
      ]
    },
    {
      "cell_type": "code",
      "source": [
        "fruits=[\"apple\",\"banana\",\"cherry\"]\n",
        "print(fruits[-1])"
      ],
      "metadata": {
        "colab": {
          "base_uri": "https://localhost:8080/"
        },
        "id": "KaeRgfuGCVk8",
        "outputId": "19b5a659-d7c6-48c8-b96d-88bca5c33799"
      },
      "execution_count": null,
      "outputs": [
        {
          "output_type": "stream",
          "name": "stdout",
          "text": [
            "cherry\n"
          ]
        }
      ]
    },
    {
      "cell_type": "markdown",
      "metadata": {
        "id": "rR3ORmMVI55Z"
      },
      "source": [
        "### Use a range of indexes to print the third, fourth, and fifth item in the list.\n",
        "\n"
      ]
    },
    {
      "cell_type": "code",
      "source": [
        "fruits=[\"apple\",\"banana\",\"apple\",\"banana\",\"cherry\",\"banana\"]\n",
        "print(fruits[2:5])"
      ],
      "metadata": {
        "colab": {
          "base_uri": "https://localhost:8080/"
        },
        "id": "PN4AXroKCcmw",
        "outputId": "edc7043d-f8af-4dd5-97a0-ad8d6c2d6197"
      },
      "execution_count": null,
      "outputs": [
        {
          "output_type": "stream",
          "name": "stdout",
          "text": [
            "['apple', 'banana', 'cherry']\n"
          ]
        }
      ]
    },
    {
      "cell_type": "markdown",
      "metadata": {
        "id": "tc0ZAGQ2JfM9"
      },
      "source": [
        "### Use the correct syntax to print the number of items in the list.\n",
        "\n"
      ]
    },
    {
      "cell_type": "code",
      "source": [
        "len(fruits)"
      ],
      "metadata": {
        "colab": {
          "base_uri": "https://localhost:8080/"
        },
        "id": "JnlPQPPHCxAO",
        "outputId": "c7f72a96-31fc-4364-e29f-cd23591e78bd"
      },
      "execution_count": null,
      "outputs": [
        {
          "output_type": "execute_result",
          "data": {
            "text/plain": [
              "6"
            ]
          },
          "metadata": {},
          "execution_count": 22
        }
      ]
    },
    {
      "cell_type": "markdown",
      "metadata": {
        "id": "feYJq0vYKe1S"
      },
      "source": [
        "### Write a Python program to print all even numbers from a given list of numbers in the same order and stop printing any after 237 in the sequence."
      ]
    },
    {
      "cell_type": "markdown",
      "metadata": {
        "id": "ec1qLM7DKnea"
      },
      "source": [
        "#### numbers = [    \n",
        "    386, 462, 47, 418, 907, 344, 236, 375, 823, 566, 597, 978, 328, 615, 953, 345,\n",
        "    399, 162, 758, 219, 918, 237, 412, 566, 826, 248, 866, 950, 626, 949, 687, 217,\n",
        "    815, 67, 104, 58, 512, 24, 892, 894, 767, 553, 81, 379, 843, 831, 445, 742, 717,\n",
        "    958,743, 527\n",
        "    ]"
      ]
    },
    {
      "cell_type": "code",
      "source": [
        "x=[1,3,5,6,7,9]"
      ],
      "metadata": {
        "id": "JEe31Oq4G6Cf"
      },
      "execution_count": null,
      "outputs": []
    },
    {
      "cell_type": "code",
      "source": [
        "x[6]"
      ],
      "metadata": {
        "colab": {
          "base_uri": "https://localhost:8080/",
          "height": 141
        },
        "id": "5yLUHTjzG_qY",
        "outputId": "482202d6-6834-4f1c-ca8b-eaf9ba49b66d"
      },
      "execution_count": null,
      "outputs": [
        {
          "output_type": "error",
          "ename": "IndexError",
          "evalue": "list index out of range",
          "traceback": [
            "\u001b[0;31m---------------------------------------------------------------------------\u001b[0m",
            "\u001b[0;31mIndexError\u001b[0m                                Traceback (most recent call last)",
            "\u001b[0;32m<ipython-input-40-04aa5bc9ecce>\u001b[0m in \u001b[0;36m<cell line: 1>\u001b[0;34m()\u001b[0m\n\u001b[0;32m----> 1\u001b[0;31m \u001b[0mx\u001b[0m\u001b[0;34m[\u001b[0m\u001b[0;36m6\u001b[0m\u001b[0;34m]\u001b[0m\u001b[0;34m\u001b[0m\u001b[0;34m\u001b[0m\u001b[0m\n\u001b[0m",
            "\u001b[0;31mIndexError\u001b[0m: list index out of range"
          ]
        }
      ]
    },
    {
      "cell_type": "code",
      "source": [
        "len(x)"
      ],
      "metadata": {
        "colab": {
          "base_uri": "https://localhost:8080/"
        },
        "id": "gA7OmCP4G8TM",
        "outputId": "efb6d62f-10af-47dc-dde1-c304ac020fcc"
      },
      "execution_count": null,
      "outputs": [
        {
          "output_type": "execute_result",
          "data": {
            "text/plain": [
              "6"
            ]
          },
          "metadata": {},
          "execution_count": 38
        }
      ]
    },
    {
      "cell_type": "code",
      "source": [
        "numbers = [\n",
        "    386, 462, 47, 418, 907, 344, 236, 375, 823, 566, 597, 978, 328, 615, 953, 345,\n",
        "    399, 162, 758, 219, 918, 237, 412, 566, 826, 248, 866, 950, 626, 949, 687, 217,\n",
        "    815, 67, 104, 58, 512, 24, 892, 894, 767, 553, 81, 379, 843, 831, 445, 742, 717,\n",
        "    958,743, 527\n",
        "    ]\n",
        "# for x in numbers:\n",
        "#   if x==237:\n",
        "#     break\n",
        "#   elif x%2 ==0:\n",
        "#     print(x)\n",
        "# for  x in range(len(numbers)):\n",
        "#   if numbers[x]==237:\n",
        "#     break\n",
        "#   elif x%2==0:\n",
        "#     print(numbers[x])\n",
        "\n",
        "index=0\n",
        "while numbers[index] !=237:\n",
        "  if numbers[index]==418:\n",
        "    break\n",
        "  else:\n",
        "    print(numbers[index])\n",
        "  index+=1\n"
      ],
      "metadata": {
        "colab": {
          "base_uri": "https://localhost:8080/"
        },
        "id": "I4LlrSU8FM7J",
        "outputId": "cc8a1368-7de2-4385-fc8f-85cc475dfdef"
      },
      "execution_count": null,
      "outputs": [
        {
          "output_type": "stream",
          "name": "stdout",
          "text": [
            "386\n",
            "462\n",
            "47\n"
          ]
        }
      ]
    },
    {
      "cell_type": "markdown",
      "metadata": {
        "id": "FX6mi5tqLb5J"
      },
      "source": [
        "### Write a Python program that will accept the base and height of a triangle and compute its area.\n",
        "\n"
      ]
    },
    {
      "cell_type": "markdown",
      "metadata": {
        "id": "mt1FKNPYLN0I"
      },
      "source": [
        "<img src=\"https://www.w3resource.com/w3r_images/python-area-triangle-basic-exercise-30.png\" alt=\"Girl in a jacket\" width=\"500\" height=\"600\">\n"
      ]
    },
    {
      "cell_type": "code",
      "source": [
        "def calaculate_triangle_area(base,height):\n",
        "  return 0.5 * base * height\n",
        "b= int(input(\"Input the base : \"))\n",
        "h= int(input(\"Input the base : \"))\n",
        "area=calaculate_triangle_area(b,h)\n",
        "print(\"area = \",area)"
      ],
      "metadata": {
        "colab": {
          "base_uri": "https://localhost:8080/"
        },
        "id": "8thTaXfTKPKV",
        "outputId": "f962395e-4b73-4fe4-b6ed-846d0a182fa4"
      },
      "execution_count": null,
      "outputs": [
        {
          "output_type": "stream",
          "name": "stdout",
          "text": [
            "Input the base : 10\n",
            "Input the base : 20\n",
            "area =  100.0\n"
          ]
        }
      ]
    },
    {
      "cell_type": "markdown",
      "metadata": {
        "id": "tP7gY2ZCPxnU"
      },
      "source": [
        "### Sort three integers without using conditional statements\n",
        "\n"
      ]
    },
    {
      "cell_type": "markdown",
      "metadata": {
        "id": "Xwy7VRdJPtxN"
      },
      "source": [
        "<img src=\"https://www.w3resource.com/w3r_images/python-basic-image-exercise-69.png\" alt=\"Girl in a jacket\" width=\"500\" height=\"600\">\n"
      ]
    },
    {
      "cell_type": "code",
      "source": [
        "def add(n,n1,n3):\n",
        "  print(n+n1)\n",
        "  return n ,n1,n3\n"
      ],
      "metadata": {
        "id": "hO1deC0xLEJN"
      },
      "execution_count": null,
      "outputs": []
    },
    {
      "cell_type": "code",
      "source": [
        "a1,a2,a3=add(10,11,12)"
      ],
      "metadata": {
        "colab": {
          "base_uri": "https://localhost:8080/"
        },
        "id": "GoUR_1Y-Lsi0",
        "outputId": "e4b79b8f-17e7-48e3-b3e0-f23b0a1fb9a8"
      },
      "execution_count": null,
      "outputs": [
        {
          "output_type": "stream",
          "name": "stdout",
          "text": [
            "21\n"
          ]
        }
      ]
    },
    {
      "cell_type": "code",
      "source": [
        "print(n)"
      ],
      "metadata": {
        "colab": {
          "base_uri": "https://localhost:8080/",
          "height": 141
        },
        "id": "AK685w00QwHo",
        "outputId": "7c5d7ede-0b70-464e-89fa-b6d24d1c10ad"
      },
      "execution_count": null,
      "outputs": [
        {
          "output_type": "error",
          "ename": "NameError",
          "evalue": "name 'n' is not defined",
          "traceback": [
            "\u001b[0;31m---------------------------------------------------------------------------\u001b[0m",
            "\u001b[0;31mNameError\u001b[0m                                 Traceback (most recent call last)",
            "\u001b[0;32m<ipython-input-11-349653be3a92>\u001b[0m in \u001b[0;36m<cell line: 1>\u001b[0;34m()\u001b[0m\n\u001b[0;32m----> 1\u001b[0;31m \u001b[0mprint\u001b[0m\u001b[0;34m(\u001b[0m\u001b[0mn\u001b[0m\u001b[0;34m)\u001b[0m\u001b[0;34m\u001b[0m\u001b[0;34m\u001b[0m\u001b[0m\n\u001b[0m",
            "\u001b[0;31mNameError\u001b[0m: name 'n' is not defined"
          ]
        }
      ]
    },
    {
      "cell_type": "code",
      "source": [
        "print(a1)"
      ],
      "metadata": {
        "colab": {
          "base_uri": "https://localhost:8080/"
        },
        "id": "ZuXhnWTqLyI6",
        "outputId": "64a6cb7e-2e97-4ec6-8ed1-a7e0aed02f76"
      },
      "execution_count": null,
      "outputs": [
        {
          "output_type": "stream",
          "name": "stdout",
          "text": [
            "10\n"
          ]
        }
      ]
    },
    {
      "cell_type": "code",
      "source": [
        "x=int(input(\"Input first number: \"))\n",
        "y=int(input(\"Input second number :\"))\n",
        "z=int(input(\"Input  thrid number :\"))\n",
        "def sort_numbers(x,y,z):\n",
        "  a1=min(x,y,z)\n",
        "  a3=max(x,y,z)\n",
        "  a2=(x+y+z)-a1-a3\n",
        "  return a1,a2,a3\n",
        "sort_numbers()"
      ],
      "metadata": {
        "colab": {
          "base_uri": "https://localhost:8080/"
        },
        "id": "Q61FnclmRUfE",
        "outputId": "15672423-87a4-4be5-9032-471243be9274"
      },
      "execution_count": null,
      "outputs": [
        {
          "name": "stdout",
          "output_type": "stream",
          "text": [
            "Input first number: 10\n",
            "Input second number :20\n",
            "Input  thrid number :30\n"
          ]
        }
      ]
    },
    {
      "cell_type": "code",
      "source": [
        "# x=int(input(\"Input first number: \"))\n",
        "# y=int(input(\"Input second number :\"))\n",
        "# z=int(input(\"Input  thrid number :\"))\n",
        "# def sort_numbers(x,y,z):\n",
        "#   a1=min(x,y,z)\n",
        "#   a3=max(x,y,z)\n",
        "#   a2=(x+y+z)-a1-a3\n",
        "#   return a1,a2,a3\n",
        "# nm1,num_2,num_3=sort_numbers(x,y,z)\n",
        "# print(\"Number in sorted order\",nm1,num_2,num_3)\n",
        "\n",
        "x=int(input(\"Input first number: \"))\n",
        "y=int(input(\"Input second number :\"))\n",
        "z=int(input(\"Input  thrid number :\"))\n",
        "def sort_numbers(x,y,z):\n",
        "  a1=min(x,y,z)\n",
        "  a3=max(x,y,z)\n",
        "  a2=(x+y+z)-a1-a3\n",
        "  return f\" {a1} {a2} {a3}\"\n",
        "sort_numbers(x,y,z)\n"
      ],
      "metadata": {
        "colab": {
          "base_uri": "https://localhost:8080/",
          "height": 87
        },
        "id": "OF-5CpXQL4fO",
        "outputId": "89909923-2031-4cfb-cfee-a5280775171e"
      },
      "execution_count": null,
      "outputs": [
        {
          "name": "stdout",
          "output_type": "stream",
          "text": [
            "Input first number: 10\n",
            "Input second number :20\n",
            "Input  thrid number :30\n"
          ]
        },
        {
          "output_type": "execute_result",
          "data": {
            "text/plain": [
              "' 10 20 30'"
            ],
            "application/vnd.google.colaboratory.intrinsic+json": {
              "type": "string"
            }
          },
          "metadata": {},
          "execution_count": 10
        }
      ]
    },
    {
      "cell_type": "markdown",
      "metadata": {
        "id": "zNKNtPGrRbvr"
      },
      "source": [
        "\n",
        "### Sort three integers :using conditional statements\n",
        "\n",
        "\n",
        "\n"
      ]
    },
    {
      "cell_type": "markdown",
      "metadata": {
        "id": "nn6opiI8Uj1-"
      },
      "source": [
        "#### Write a Python function that takes a sequence of numbers and determines whether all the numbers are different from each other."
      ]
    },
    {
      "cell_type": "markdown",
      "metadata": {
        "id": "9LQTVtiGVJ9r"
      },
      "source": [
        "<img src=\"https://www.w3resource.com/w3r_images/python-basic-1-image-exercise-1.png\" alt=\"Girl in a jacket\" width=\"500\" height=\"600\">\n"
      ]
    },
    {
      "cell_type": "code",
      "source": [
        "z=[]\n",
        "y=int(input(\"Enter len of list :\\n\"))\n",
        "for i in range(y):\n",
        "  x=float(input(\"Enter  number :\\t\"))\n",
        "  z.append(x)\n",
        "print(len(z),len(set(z)))\n",
        "if len(z)==len(set(z)):\n",
        "  print(\"True\")\n",
        "else:\n",
        "  print(\"False\")"
      ],
      "metadata": {
        "colab": {
          "base_uri": "https://localhost:8080/"
        },
        "id": "q0JwfYiKS9_d",
        "outputId": "0ecdd5c8-441b-4ea0-deee-56649dd87bd0"
      },
      "execution_count": null,
      "outputs": [
        {
          "output_type": "stream",
          "name": "stdout",
          "text": [
            "Enter len of list :\n",
            "4\n",
            "Enter  number :\t1\n",
            "Enter  number :\t1\n",
            "Enter  number :\t2\n",
            "Enter  number :\t3\n",
            "4 3\n",
            "False\n"
          ]
        }
      ]
    },
    {
      "cell_type": "markdown",
      "metadata": {
        "id": "HHNeCzCWa3lx"
      },
      "source": [
        "#### Dictionary"
      ]
    },
    {
      "cell_type": "code",
      "execution_count": null,
      "metadata": {
        "colab": {
          "base_uri": "https://localhost:8080/"
        },
        "id": "WOrfDlTla-Lf",
        "outputId": "76889e97-c736-490b-d105-61ee74cfb137"
      },
      "outputs": [
        {
          "data": {
            "text/plain": [
              "['a', 'b', 'c']"
            ]
          },
          "execution_count": 27,
          "metadata": {},
          "output_type": "execute_result"
        }
      ],
      "source": [
        "dict1 = {'a': 100, 'b': 200, 'c': 300}\n",
        "list(dict1.keys())"
      ]
    },
    {
      "cell_type": "code",
      "execution_count": null,
      "metadata": {
        "colab": {
          "base_uri": "https://localhost:8080/"
        },
        "id": "DAdr9gOQbDng",
        "outputId": "578f6680-f1e7-49cb-eaa0-bec2445dde2d"
      },
      "outputs": [
        {
          "data": {
            "text/plain": [
              "[200, 300]"
            ]
          },
          "execution_count": 28,
          "metadata": {},
          "output_type": "execute_result"
        }
      ],
      "source": [
        "dict1 = {'a': 100, 'a': 200, 'c': 300}\n",
        "list(dict1.values())"
      ]
    },
    {
      "cell_type": "code",
      "execution_count": null,
      "metadata": {
        "colab": {
          "base_uri": "https://localhost:8080/"
        },
        "id": "XzjcaUpqbMGc",
        "outputId": "f18592a5-dee7-41ae-8f01-621dc6a44b0f"
      },
      "outputs": [
        {
          "data": {
            "text/plain": [
              "[('a', 200), ('c', 300)]"
            ]
          },
          "execution_count": 29,
          "metadata": {},
          "output_type": "execute_result"
        }
      ],
      "source": [
        "dict1 = {'a': 100, 'a': 200, 'c': 300}\n",
        "list(dict1.items())"
      ]
    },
    {
      "cell_type": "markdown",
      "metadata": {
        "id": "6c1ld1XoZ_RK"
      },
      "source": [
        "```\n",
        "Input : {‘a’: 100, ‘b’:200, ‘c’:300}\n",
        "```\n",
        "Output : 600\n",
        "```\n",
        "# Input : {‘x’: 25, ‘y’:18, ‘z’:45}\n",
        "\n",
        "```\n",
        "Output : 88"
      ]
    },
    {
      "cell_type": "code",
      "execution_count": null,
      "metadata": {
        "colab": {
          "base_uri": "https://localhost:8080/"
        },
        "id": "tXhL4XGdR6oE",
        "outputId": "47586d5b-1486-4989-d409-5f9b53d066f6"
      },
      "outputs": [
        {
          "data": {
            "text/plain": [
              "15"
            ]
          },
          "execution_count": 30,
          "metadata": {},
          "output_type": "execute_result"
        }
      ],
      "source": [
        "sum([0,1,2,3,4,5])\n",
        "sum((0,1,2,3,4,5))\n",
        "sum({0,1,2,3,4,5})\n",
        "sum({5:5,10:11})"
      ]
    },
    {
      "cell_type": "markdown",
      "source": [
        "### Python program to find the sum of all values in a dictionary\n"
      ],
      "metadata": {
        "id": "6BJBp-omBEnB"
      }
    },
    {
      "cell_type": "markdown",
      "metadata": {
        "id": "LcvPYHMNb3KI"
      },
      "source": [
        "### Filter the negative values from given dictionary"
      ]
    },
    {
      "cell_type": "markdown",
      "metadata": {
        "id": "zIj0KxvgIO58"
      },
      "source": [
        "### Test if all Values are Same in Dictionary"
      ]
    },
    {
      "cell_type": "markdown",
      "metadata": {
        "id": "-aCAiR5mktpN"
      },
      "source": [
        "### test_dict = {\"Gfg\": 8, \"is\": 5, \"Best\": 5}\n",
        "### False"
      ]
    },
    {
      "cell_type": "markdown",
      "metadata": {
        "id": "PG5Z5JNJMLTi"
      },
      "source": [
        "# `any`"
      ]
    },
    {
      "cell_type": "code",
      "execution_count": null,
      "metadata": {
        "colab": {
          "base_uri": "https://localhost:8080/"
        },
        "id": "42838XSZMPoh",
        "outputId": "e8cb1f25-4cfb-4b2e-b77a-b3f6d8d33348"
      },
      "outputs": [
        {
          "name": "stdout",
          "output_type": "stream",
          "text": [
            "True\n"
          ]
        }
      ],
      "source": [
        "mylist = [False, True, False]\n",
        "x = any(mylist)\n",
        "print(x)\n"
      ]
    },
    {
      "cell_type": "code",
      "execution_count": null,
      "metadata": {
        "colab": {
          "base_uri": "https://localhost:8080/"
        },
        "id": "jMcpwFY0MonY",
        "outputId": "b938cb79-c73e-452c-cc21-80b614560020"
      },
      "outputs": [
        {
          "name": "stdout",
          "output_type": "stream",
          "text": [
            "True\n"
          ]
        }
      ],
      "source": [
        "mydict = {0 : \"Apple\", 1 : \"Orange\"}\n",
        "x = any(mydict)\n",
        "print(x)"
      ]
    },
    {
      "cell_type": "code",
      "execution_count": null,
      "metadata": {
        "colab": {
          "base_uri": "https://localhost:8080/"
        },
        "id": "sDyzrjk5MuOl",
        "outputId": "1a49c77a-6951-44f0-e799-1c77bf610544"
      },
      "outputs": [
        {
          "name": "stdout",
          "output_type": "stream",
          "text": [
            "False\n"
          ]
        }
      ],
      "source": [
        "mydict = {0 : \"Apple\", 0 : True}\n",
        "x = any(mydict)\n",
        "print(x)"
      ]
    },
    {
      "cell_type": "markdown",
      "metadata": {
        "id": "hrg9MKDKMb0Y"
      },
      "source": [
        "#### <font color='gold'>Note: When used on a dictionary, the any() function checks if any of the keys are true, not the values.</font>\n",
        "\n",
        "\n"
      ]
    },
    {
      "cell_type": "markdown",
      "source": [
        "### Test if vlaue input  in dictionary value"
      ],
      "metadata": {
        "id": "RXYELJ29BVOm"
      }
    },
    {
      "cell_type": "markdown",
      "metadata": {
        "id": "3GT4F80UOaTa"
      },
      "source": [
        "### Calculate the sum of all numbers from 0 to a given number"
      ]
    },
    {
      "cell_type": "code",
      "source": [
        "\n",
        "num=5\n",
        "sum=0\n",
        "for i in range(num+1):\n",
        "  sum+=i\n",
        "print(sum)"
      ],
      "metadata": {
        "colab": {
          "base_uri": "https://localhost:8080/"
        },
        "id": "A5b6NYbOcR9g",
        "outputId": "35c81db6-ea9b-496f-8360-e8bd1fcf91bc"
      },
      "execution_count": null,
      "outputs": [
        {
          "output_type": "stream",
          "name": "stdout",
          "text": [
            "15\n"
          ]
        }
      ]
    },
    {
      "cell_type": "markdown",
      "metadata": {
        "id": "1tHglDPNUT5J"
      },
      "source": [
        "### Find the factorial of a given number using while loop"
      ]
    },
    {
      "cell_type": "code",
      "source": [
        "n=float(input(\"enter your value: \"))\n",
        "f=1\n",
        "while n>=1:\n",
        "  f*=n\n",
        "  n-=1\n",
        "print(\"factorial is\",f)"
      ],
      "metadata": {
        "colab": {
          "base_uri": "https://localhost:8080/"
        },
        "id": "svCTFcIcdLUx",
        "outputId": "704ae908-1833-4981-c23e-8dad40685088"
      },
      "execution_count": null,
      "outputs": [
        {
          "output_type": "stream",
          "name": "stdout",
          "text": [
            "enter your value: 5\n",
            "factorial is 120.0\n"
          ]
        }
      ]
    },
    {
      "cell_type": "markdown",
      "metadata": {
        "id": "QT1487BDVCIU"
      },
      "source": [
        "#### For example: calculate the factorial of 5\n",
        "\n"
      ]
    },
    {
      "cell_type": "markdown",
      "metadata": {
        "id": "FCTJ9pt_VE-y"
      },
      "source": [
        "\n",
        "\n",
        "```\n",
        "# 5! = 5 × 4 × 3 × 2 × 1 = 120\n",
        "\n",
        "```\n",
        "\n"
      ]
    },
    {
      "cell_type": "markdown",
      "metadata": {
        "id": "q_f9IMbDYkLm"
      },
      "source": [
        "### Use a loop to display elements from a given list present at odd index positions"
      ]
    },
    {
      "cell_type": "code",
      "source": [
        "x=[10,20,30,40,50,60,70,80,90,100]\n",
        "for i in range(len(x)):\n",
        "  if i%2!=0:\n",
        "    print(x[i])\n",
        "\n",
        "\n"
      ],
      "metadata": {
        "colab": {
          "base_uri": "https://localhost:8080/"
        },
        "id": "_lJXu3i5ezTk",
        "outputId": "4e091ab3-ea15-430c-aeb5-f99a32aee426"
      },
      "execution_count": null,
      "outputs": [
        {
          "output_type": "stream",
          "name": "stdout",
          "text": [
            "20\n",
            "40\n",
            "60\n",
            "80\n",
            "100\n"
          ]
        }
      ]
    },
    {
      "cell_type": "markdown",
      "metadata": {
        "id": "Q9gHbx7XZBFc"
      },
      "source": [
        "```\n",
        "my_list = [10, 20, 30, 40, 50, 60, 70, 80, 90, 100]\n",
        "Expected output:\n",
        "20 40 60 80 100\n",
        "```\n",
        "\n"
      ]
    },
    {
      "cell_type": "markdown",
      "metadata": {
        "id": "otJlQghGZZnk"
      },
      "source": [
        "### Calculate the cube of all numbers from 1 to a given number"
      ]
    },
    {
      "cell_type": "code",
      "source": [
        "n=int(input(\"enter your value:\"))\n",
        "x=[]\n",
        "for i in range(1,n+1):\n",
        "  x.append(i**3)\n",
        "print(x)"
      ],
      "metadata": {
        "colab": {
          "base_uri": "https://localhost:8080/"
        },
        "id": "ea9ggYmviu_5",
        "outputId": "2c326fbb-598f-49c7-99fc-f24fc1e10ee0"
      },
      "execution_count": null,
      "outputs": [
        {
          "output_type": "stream",
          "name": "stdout",
          "text": [
            "enter your value:9\n",
            "[1, 8, 27, 64, 125, 216, 343, 512, 729]\n"
          ]
        }
      ]
    },
    {
      "cell_type": "markdown",
      "metadata": {
        "id": "NRZ3LLaUmtQu"
      },
      "source": [
        "### len of str in list\n",
        "### ['apple', 'orange', 'cat']"
      ]
    },
    {
      "cell_type": "code",
      "execution_count": null,
      "metadata": {
        "colab": {
          "base_uri": "https://localhost:8080/"
        },
        "id": "bIhFj4Q8ZlrW",
        "outputId": "c7a2f25b-b6c4-4289-a9c3-91b8504ed81a"
      },
      "outputs": [
        {
          "name": "stdout",
          "output_type": "stream",
          "text": [
            "[5, 6, 3]\n"
          ]
        }
      ],
      "source": [
        "l = ['apple', 'orange', 'cat']\n",
        "print([ len(i) for i in l])\n"
      ]
    },
    {
      "cell_type": "markdown",
      "metadata": {
        "id": "V05BjYlMeMjZ"
      },
      "source": [
        "### program to count number of vowels using sets in given string\n"
      ]
    },
    {
      "cell_type": "markdown",
      "metadata": {
        "id": "rdIZGB8kgcMQ"
      },
      "source": [
        "\n",
        "### Write a Python program to add an item to a tuple."
      ]
    },
    {
      "cell_type": "code",
      "source": [
        "x=(1,2,\"apple\")\n",
        "x.insert(1,\"banana\")\n",
        "print(x)"
      ],
      "metadata": {
        "colab": {
          "base_uri": "https://localhost:8080/",
          "height": 180
        },
        "id": "-LOH4_wxFQas",
        "outputId": "43d93933-c379-4edd-f978-a2b46a72e970"
      },
      "execution_count": null,
      "outputs": [
        {
          "output_type": "error",
          "ename": "AttributeError",
          "evalue": "'tuple' object has no attribute 'insert'",
          "traceback": [
            "\u001b[0;31m---------------------------------------------------------------------------\u001b[0m",
            "\u001b[0;31mAttributeError\u001b[0m                            Traceback (most recent call last)",
            "\u001b[0;32m<ipython-input-3-300c744b71fd>\u001b[0m in \u001b[0;36m<cell line: 2>\u001b[0;34m()\u001b[0m\n\u001b[1;32m      1\u001b[0m \u001b[0mx\u001b[0m\u001b[0;34m=\u001b[0m\u001b[0;34m(\u001b[0m\u001b[0;36m1\u001b[0m\u001b[0;34m,\u001b[0m\u001b[0;36m2\u001b[0m\u001b[0;34m,\u001b[0m\u001b[0;34m\"apple\"\u001b[0m\u001b[0;34m)\u001b[0m\u001b[0;34m\u001b[0m\u001b[0;34m\u001b[0m\u001b[0m\n\u001b[0;32m----> 2\u001b[0;31m \u001b[0mx\u001b[0m\u001b[0;34m.\u001b[0m\u001b[0minsert\u001b[0m\u001b[0;34m(\u001b[0m\u001b[0;36m1\u001b[0m\u001b[0;34m,\u001b[0m\u001b[0;34m\"banana\"\u001b[0m\u001b[0;34m)\u001b[0m\u001b[0;34m\u001b[0m\u001b[0;34m\u001b[0m\u001b[0m\n\u001b[0m\u001b[1;32m      3\u001b[0m \u001b[0mprint\u001b[0m\u001b[0;34m(\u001b[0m\u001b[0mx\u001b[0m\u001b[0;34m)\u001b[0m\u001b[0;34m\u001b[0m\u001b[0;34m\u001b[0m\u001b[0m\n",
            "\u001b[0;31mAttributeError\u001b[0m: 'tuple' object has no attribute 'insert'"
          ]
        }
      ]
    },
    {
      "cell_type": "markdown",
      "metadata": {
        "id": "NpZ-cEhZkSlO"
      },
      "source": [
        "### Write a Python program to multiply all the items in a list."
      ]
    },
    {
      "cell_type": "code",
      "source": [
        "list=eval(input(\"enter your list:\"))\n",
        "f=1\n",
        "for i in list:\n",
        "  f*=i\n",
        "print(\"result:\",f)"
      ],
      "metadata": {
        "colab": {
          "base_uri": "https://localhost:8080/"
        },
        "id": "dQmrrj1RpW5Z",
        "outputId": "8a2c5cc2-abcc-44b8-c8b6-fc63aab1a6ae"
      },
      "execution_count": null,
      "outputs": [
        {
          "output_type": "stream",
          "name": "stdout",
          "text": [
            "enter your list:[3,4,5]\n",
            "result: 60\n"
          ]
        }
      ]
    },
    {
      "cell_type": "markdown",
      "metadata": {
        "id": "2fwBrTI1k1XG"
      },
      "source": [
        "### Write a Python program to get the smallest number from a list."
      ]
    },
    {
      "cell_type": "code",
      "source": [
        "list=eval(input(\"enter your list:\"))\n",
        "print(min(list))"
      ],
      "metadata": {
        "id": "hTUu18-mFktP",
        "colab": {
          "base_uri": "https://localhost:8080/"
        },
        "outputId": "ea48eeaa-7a25-4a64-fc38-42903937abf3"
      },
      "execution_count": null,
      "outputs": [
        {
          "output_type": "stream",
          "name": "stdout",
          "text": [
            "enter your list:1,2,3\n",
            "1\n"
          ]
        }
      ]
    },
    {
      "cell_type": "markdown",
      "metadata": {
        "id": "-k8pdXDek5IW"
      },
      "source": [
        "### Write a Python program to get the largest number from a list."
      ]
    },
    {
      "cell_type": "code",
      "source": [
        "list=eval(input(\"enter your list:\"))\n",
        "print(max(list))"
      ],
      "metadata": {
        "colab": {
          "base_uri": "https://localhost:8080/"
        },
        "id": "CQL-qUT_rwoa",
        "outputId": "a36aac43-4dcd-46a8-ce75-e81091880900"
      },
      "execution_count": null,
      "outputs": [
        {
          "output_type": "stream",
          "name": "stdout",
          "text": [
            "enter your list:1,2,3\n",
            "3\n"
          ]
        }
      ]
    },
    {
      "cell_type": "markdown",
      "metadata": {
        "id": "xY1nqjlSlC7b"
      },
      "source": [
        "### Write a Python program to clone or copy a list"
      ]
    },
    {
      "cell_type": "code",
      "source": [
        "def copy (x):\n",
        "  y=[]\n",
        "  y.extend(x)\n",
        "  return y\n",
        "walid=[1,2,3,]\n",
        "z=copy(walid)\n",
        "print(z)"
      ],
      "metadata": {
        "colab": {
          "base_uri": "https://localhost:8080/"
        },
        "id": "_n5as_JssKDJ",
        "outputId": "8dd57962-91cb-4e26-e383-87e910b5e25a"
      },
      "execution_count": null,
      "outputs": [
        {
          "output_type": "stream",
          "name": "stdout",
          "text": [
            "[1, 2, 3]\n"
          ]
        }
      ]
    },
    {
      "cell_type": "markdown",
      "metadata": {
        "id": "48pndthSlHSg"
      },
      "source": [
        "### Write a Python program to remove item(s) from a given set.\n",
        "\n",
        "### s = set([0, 1, 3, 4, 5])"
      ]
    },
    {
      "cell_type": "code",
      "source": [
        "s = set([0, 1, 3, 4, 5])\n",
        "print(\"first set:\",s)\n",
        "s.pop()\n",
        "print(\"second set:\",s)"
      ],
      "metadata": {
        "colab": {
          "base_uri": "https://localhost:8080/"
        },
        "id": "VbPz2doItlL2",
        "outputId": "5ce33f48-5c90-4196-ef73-dde848a874c2"
      },
      "execution_count": null,
      "outputs": [
        {
          "output_type": "stream",
          "name": "stdout",
          "text": [
            "first set: {0, 1, 3, 4, 5}\n",
            "second set: {1, 3, 4, 5}\n"
          ]
        }
      ]
    },
    {
      "cell_type": "markdown",
      "metadata": {
        "id": "J5nHkSQ4lmlq"
      },
      "source": [
        "### Write a Python program to find the maximum and minimum values in a set."
      ]
    },
    {
      "cell_type": "code",
      "source": [
        "s = set([0, 1, 3, 4, 5])\n",
        "print(\"max is :\",max(s))\n",
        "print(\"min is :\",min(s))"
      ],
      "metadata": {
        "colab": {
          "base_uri": "https://localhost:8080/"
        },
        "id": "nBnE4jUquJyi",
        "outputId": "07bd01c3-e922-4e17-8c0a-c809e64ea82b"
      },
      "execution_count": null,
      "outputs": [
        {
          "output_type": "stream",
          "name": "stdout",
          "text": [
            "max is : 5\n",
            "min is : 0\n"
          ]
        }
      ]
    },
    {
      "cell_type": "markdown",
      "metadata": {
        "id": "ZDEKN9ulnLZO"
      },
      "source": [
        "### Write a Python program to convert a tuple to a dictionary.\n",
        "### dict1 = {}\n",
        "### tuple1 = (\"name\", \"age\", \"city\",\"city\")\n",
        "\n",
        "```\n",
        "# enumerate()\n",
        "```\n",
        "\n"
      ]
    },
    {
      "cell_type": "code",
      "source": [
        "tuple1 = (\"name\", \"age\", \"city\",\"city\")\n",
        "x=dict(enumerate(tuple1))\n",
        "print(x)"
      ],
      "metadata": {
        "colab": {
          "base_uri": "https://localhost:8080/"
        },
        "id": "HUVDusmfufJj",
        "outputId": "7ab2b13c-a41e-4ef3-c4d8-b40b354898f1"
      },
      "execution_count": 1,
      "outputs": [
        {
          "output_type": "stream",
          "name": "stdout",
          "text": [
            "{0: 'name', 1: 'age', 2: 'city', 3: 'city'}\n"
          ]
        }
      ]
    },
    {
      "cell_type": "markdown",
      "metadata": {
        "id": "UN1IZCJHsWcX"
      },
      "source": [
        "### Write a Python program to replace the last value of tuples in a list.\n",
        "\n",
        "### Sample list: [(10, 20, 40), (40, 50, 60), (70, 80, 90)]\n",
        "\n",
        "### Expected Output: [(10, 20, 100), (40, 50, 100), (70, 80, 100)]\n",
        "\n"
      ]
    },
    {
      "cell_type": "code",
      "source": [
        "x=[(10, 20, 40), (40, 50, 60), (70, 80, 90)]\n",
        "new_lst = [tpl[:-1] + (100,) for tpl in x]\n",
        "print(new_lst)"
      ],
      "metadata": {
        "colab": {
          "base_uri": "https://localhost:8080/"
        },
        "id": "tkBDHC890pZe",
        "outputId": "32869d3d-c0e9-4184-deef-6d4692da9c3d"
      },
      "execution_count": 15,
      "outputs": [
        {
          "output_type": "stream",
          "name": "stdout",
          "text": [
            "[(10, 20, 100), (40, 50, 100), (70, 80, 100)]\n"
          ]
        }
      ]
    },
    {
      "cell_type": "code",
      "source": [
        "x=[(10, 20, 40), (40, 50, 60), (70, 80, 90)]\n",
        "for i in range(len(x)):\n",
        "  upd_list=list(x[i])\n",
        "  upd_list[-1]=100\n",
        "  x[i]=tuple(upd_list)\n",
        "print(x)\n"
      ],
      "metadata": {
        "colab": {
          "base_uri": "https://localhost:8080/"
        },
        "id": "m2RatOCawswr",
        "outputId": "45e15872-52cb-4df3-e55c-9f278dea7c78"
      },
      "execution_count": 14,
      "outputs": [
        {
          "output_type": "stream",
          "name": "stdout",
          "text": [
            "[(10, 20, 100), (40, 50, 100), (70, 80, 100)]\n"
          ]
        }
      ]
    }
  ],
  "metadata": {
    "colab": {
      "provenance": []
    },
    "kernelspec": {
      "display_name": "Python 3",
      "name": "python3"
    },
    "language_info": {
      "name": "python"
    }
  },
  "nbformat": 4,
  "nbformat_minor": 0
}